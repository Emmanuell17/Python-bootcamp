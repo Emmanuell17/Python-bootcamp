{
 "cells": [
  {
   "cell_type": "code",
   "execution_count": 1,
   "id": "ae4e9640",
   "metadata": {},
   "outputs": [
    {
     "data": {
      "text/plain": [
       "44"
      ]
     },
     "execution_count": 1,
     "metadata": {},
     "output_type": "execute_result"
    }
   ],
   "source": [
    "4 *(6+5)"
   ]
  },
  {
   "cell_type": "code",
   "execution_count": 2,
   "id": "da883d16",
   "metadata": {},
   "outputs": [
    {
     "data": {
      "text/plain": [
       "29"
      ]
     },
     "execution_count": 2,
     "metadata": {},
     "output_type": "execute_result"
    }
   ],
   "source": [
    "4*6+5"
   ]
  },
  {
   "cell_type": "code",
   "execution_count": 3,
   "id": "b52c015b",
   "metadata": {},
   "outputs": [
    {
     "data": {
      "text/plain": [
       "34"
      ]
     },
     "execution_count": 3,
     "metadata": {},
     "output_type": "execute_result"
    }
   ],
   "source": [
    "4+6*5"
   ]
  },
  {
   "cell_type": "code",
   "execution_count": null,
   "id": "0a3e518e",
   "metadata": {},
   "outputs": [],
   "source": [
    "#What is the type of result of the expression 3+1.5+4\n",
    "floating point number"
   ]
  },
  {
   "cell_type": "code",
   "execution_count": 36,
   "id": "cc948acb",
   "metadata": {},
   "outputs": [
    {
     "data": {
      "text/plain": [
       "8.0"
      ]
     },
     "execution_count": 36,
     "metadata": {},
     "output_type": "execute_result"
    }
   ],
   "source": [
    "64**0.5"
   ]
  },
  {
   "cell_type": "code",
   "execution_count": 37,
   "id": "be038bd6",
   "metadata": {},
   "outputs": [
    {
     "data": {
      "text/plain": [
       "64"
      ]
     },
     "execution_count": 37,
     "metadata": {},
     "output_type": "execute_result"
    }
   ],
   "source": [
    "8**2"
   ]
  },
  {
   "cell_type": "code",
   "execution_count": 7,
   "id": "1b85e23b",
   "metadata": {},
   "outputs": [
    {
     "name": "stdout",
     "output_type": "stream",
     "text": [
      "e\n"
     ]
    }
   ],
   "source": [
    "string='Hello'\n",
    "print(string[1])"
   ]
  },
  {
   "cell_type": "code",
   "execution_count": 10,
   "id": "dd811b71",
   "metadata": {},
   "outputs": [
    {
     "name": "stdout",
     "output_type": "stream",
     "text": [
      "olleH\n"
     ]
    }
   ],
   "source": [
    "string='Hello'\n",
    "print(string[::-1])"
   ]
  },
  {
   "cell_type": "code",
   "execution_count": 11,
   "id": "ccda92a8",
   "metadata": {},
   "outputs": [
    {
     "name": "stdout",
     "output_type": "stream",
     "text": [
      "o\n",
      "o\n"
     ]
    }
   ],
   "source": [
    "string='Hello'\n",
    "print(string[4])\n",
    "print(string[-1])"
   ]
  },
  {
   "cell_type": "code",
   "execution_count": 12,
   "id": "072d68dc",
   "metadata": {},
   "outputs": [],
   "source": [
    "#Lists#"
   ]
  },
  {
   "cell_type": "code",
   "execution_count": 13,
   "id": "d45cd52a",
   "metadata": {},
   "outputs": [],
   "source": [
    "mylist=[0,0,0]\n",
    "[0]*3"
   ]
  },
  {
   "cell_type": "code",
   "execution_count": 19,
   "id": "b470668c",
   "metadata": {},
   "outputs": [
    {
     "name": "stdout",
     "output_type": "stream",
     "text": [
      "[1, 2, [3, 4, 'Goodbye']]\n"
     ]
    }
   ],
   "source": [
    "list3=[1,2,[3,4,'Hello']]\n",
    "list3[2][2]='Goodbye'\n",
    "print(list3)"
   ]
  },
  {
   "cell_type": "code",
   "execution_count": 22,
   "id": "81b6a932",
   "metadata": {},
   "outputs": [],
   "source": [
    "list4=[5,4,3,6,1]"
   ]
  },
  {
   "cell_type": "code",
   "execution_count": 26,
   "id": "f6ee0888",
   "metadata": {},
   "outputs": [],
   "source": [
    "list4.sort()"
   ]
  },
  {
   "cell_type": "code",
   "execution_count": 27,
   "id": "8b474825",
   "metadata": {},
   "outputs": [
    {
     "data": {
      "text/plain": [
       "[1, 3, 4, 5, 6]"
      ]
     },
     "execution_count": 27,
     "metadata": {},
     "output_type": "execute_result"
    }
   ],
   "source": [
    "list4"
   ]
  },
  {
   "cell_type": "code",
   "execution_count": 28,
   "id": "fbedb422",
   "metadata": {},
   "outputs": [],
   "source": [
    "#Dictionaries"
   ]
  },
  {
   "cell_type": "code",
   "execution_count": 29,
   "id": "14c19217",
   "metadata": {},
   "outputs": [],
   "source": [
    "d={'Simplekey':'Hello'}"
   ]
  },
  {
   "cell_type": "code",
   "execution_count": 30,
   "id": "323574ac",
   "metadata": {},
   "outputs": [
    {
     "data": {
      "text/plain": [
       "'Hello'"
      ]
     },
     "execution_count": 30,
     "metadata": {},
     "output_type": "execute_result"
    }
   ],
   "source": [
    "d['Simplekey']"
   ]
  },
  {
   "cell_type": "code",
   "execution_count": 31,
   "id": "7e7899b8",
   "metadata": {},
   "outputs": [],
   "source": [
    "d={'k1':{'k2':'Hello'}}"
   ]
  },
  {
   "cell_type": "code",
   "execution_count": 32,
   "id": "2d5e89d1",
   "metadata": {},
   "outputs": [
    {
     "data": {
      "text/plain": [
       "'Hello'"
      ]
     },
     "execution_count": 32,
     "metadata": {},
     "output_type": "execute_result"
    }
   ],
   "source": [
    "d['k1']['k2']"
   ]
  },
  {
   "cell_type": "code",
   "execution_count": 39,
   "id": "6dc3282d",
   "metadata": {},
   "outputs": [],
   "source": [
    "d={'k1':{'k2':'Hello'}}"
   ]
  },
  {
   "cell_type": "code",
   "execution_count": 40,
   "id": "0d97ee54",
   "metadata": {},
   "outputs": [
    {
     "data": {
      "text/plain": [
       "'Hello'"
      ]
     },
     "execution_count": 40,
     "metadata": {},
     "output_type": "execute_result"
    }
   ],
   "source": [
    "d['k1']['k2']"
   ]
  },
  {
   "cell_type": "code",
   "execution_count": 41,
   "id": "01e994ef",
   "metadata": {},
   "outputs": [],
   "source": [
    "#HELP WITH THE LAST TWO#"
   ]
  },
  {
   "cell_type": "code",
   "execution_count": null,
   "id": "45add54e",
   "metadata": {},
   "outputs": [],
   "source": []
  },
  {
   "cell_type": "code",
   "execution_count": 42,
   "id": "8d57004d",
   "metadata": {},
   "outputs": [],
   "source": [
    "#SETS"
   ]
  },
  {
   "cell_type": "code",
   "execution_count": 43,
   "id": "91966e47",
   "metadata": {},
   "outputs": [],
   "source": [
    "list5=[1,2,2,33,4,4,11,23,3,3,2]"
   ]
  },
  {
   "cell_type": "code",
   "execution_count": 44,
   "id": "3373e8c0",
   "metadata": {},
   "outputs": [
    {
     "data": {
      "text/plain": [
       "{1, 2, 3, 4, 11, 23, 33}"
      ]
     },
     "execution_count": 44,
     "metadata": {},
     "output_type": "execute_result"
    }
   ],
   "source": [
    "set(list5)"
   ]
  },
  {
   "cell_type": "code",
   "execution_count": null,
   "id": "4876b162",
   "metadata": {},
   "outputs": [],
   "source": []
  }
 ],
 "metadata": {
  "kernelspec": {
   "display_name": "Python 3 (ipykernel)",
   "language": "python",
   "name": "python3"
  },
  "language_info": {
   "codemirror_mode": {
    "name": "ipython",
    "version": 3
   },
   "file_extension": ".py",
   "mimetype": "text/x-python",
   "name": "python",
   "nbconvert_exporter": "python",
   "pygments_lexer": "ipython3",
   "version": "3.9.7"
  }
 },
 "nbformat": 4,
 "nbformat_minor": 5
}
