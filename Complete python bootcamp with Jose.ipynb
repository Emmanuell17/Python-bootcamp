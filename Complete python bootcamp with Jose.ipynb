{
 "cells": [
  {
   "cell_type": "code",
   "execution_count": 1,
   "id": "d273fcf4",
   "metadata": {},
   "outputs": [
    {
     "name": "stdout",
     "output_type": "stream",
     "text": [
      "hello /nworld\n"
     ]
    }
   ],
   "source": [
    "print('hello /nworld')"
   ]
  },
  {
   "cell_type": "code",
   "execution_count": 2,
   "id": "08a2b767",
   "metadata": {},
   "outputs": [
    {
     "name": "stdout",
     "output_type": "stream",
     "text": [
      "hello \n",
      "world\n"
     ]
    }
   ],
   "source": [
    "print('hello \\nworld')"
   ]
  },
  {
   "cell_type": "code",
   "execution_count": 4,
   "id": "b13fc731",
   "metadata": {},
   "outputs": [
    {
     "name": "stdout",
     "output_type": "stream",
     "text": [
      "hello \n",
      "world\n"
     ]
    }
   ],
   "source": [
    "print('hello \\nworld')"
   ]
  },
  {
   "cell_type": "code",
   "execution_count": 5,
   "id": "fa7c205c",
   "metadata": {},
   "outputs": [
    {
     "name": "stdout",
     "output_type": "stream",
     "text": [
      "Hello World\n"
     ]
    }
   ],
   "source": [
    "print('Hello World')"
   ]
  },
  {
   "cell_type": "code",
   "execution_count": 6,
   "id": "c073ac4b",
   "metadata": {},
   "outputs": [],
   "source": [
    "A=[0,1,2,3,4,5,6,7,8,9,10]"
   ]
  },
  {
   "cell_type": "code",
   "execution_count": 7,
   "id": "2f052ea4",
   "metadata": {},
   "outputs": [
    {
     "data": {
      "text/plain": [
       "3"
      ]
     },
     "execution_count": 7,
     "metadata": {},
     "output_type": "execute_result"
    }
   ],
   "source": [
    "A[3]"
   ]
  },
  {
   "cell_type": "code",
   "execution_count": 11,
   "id": "2506da0b",
   "metadata": {},
   "outputs": [
    {
     "data": {
      "text/plain": [
       "[0, 1, 2, 3, 4]"
      ]
     },
     "execution_count": 11,
     "metadata": {},
     "output_type": "execute_result"
    }
   ],
   "source": [
    "A[:5]"
   ]
  },
  {
   "cell_type": "code",
   "execution_count": 12,
   "id": "bc929bda",
   "metadata": {},
   "outputs": [
    {
     "data": {
      "text/plain": [
       "[4, 5, 6, 7, 8, 9]"
      ]
     },
     "execution_count": 12,
     "metadata": {},
     "output_type": "execute_result"
    }
   ],
   "source": [
    "A[4:]"
   ]
  },
  {
   "cell_type": "code",
   "execution_count": 13,
   "id": "475d2017",
   "metadata": {},
   "outputs": [
    {
     "data": {
      "text/plain": [
       "[0, 2, 4, 6, 8]"
      ]
     },
     "execution_count": 13,
     "metadata": {},
     "output_type": "execute_result"
    }
   ],
   "source": [
    "A[0:10:2]"
   ]
  },
  {
   "cell_type": "code",
   "execution_count": 16,
   "id": "f103ad5c",
   "metadata": {},
   "outputs": [
    {
     "data": {
      "text/plain": [
       "[8, 9]"
      ]
     },
     "execution_count": 16,
     "metadata": {},
     "output_type": "execute_result"
    }
   ],
   "source": [
    "A[-2:]"
   ]
  },
  {
   "cell_type": "code",
   "execution_count": 20,
   "id": "b5582640",
   "metadata": {},
   "outputs": [],
   "source": [
    "A = 'Hello World'"
   ]
  },
  {
   "cell_type": "code",
   "execution_count": 21,
   "id": "2c547e68",
   "metadata": {},
   "outputs": [
    {
     "data": {
      "text/plain": [
       "'l'"
      ]
     },
     "execution_count": 21,
     "metadata": {},
     "output_type": "execute_result"
    }
   ],
   "source": [
    "A[3]"
   ]
  },
  {
   "cell_type": "code",
   "execution_count": 23,
   "id": "0ea4ab08",
   "metadata": {},
   "outputs": [],
   "source": [
    "name = 'Bam'"
   ]
  },
  {
   "cell_type": "code",
   "execution_count": 24,
   "id": "5714b06b",
   "metadata": {},
   "outputs": [
    {
     "data": {
      "text/plain": [
       "'Bam'"
      ]
     },
     "execution_count": 24,
     "metadata": {},
     "output_type": "execute_result"
    }
   ],
   "source": [
    "name"
   ]
  },
  {
   "cell_type": "code",
   "execution_count": 25,
   "id": "c22d0262",
   "metadata": {},
   "outputs": [],
   "source": [
    "last_letters = name[1:]"
   ]
  },
  {
   "cell_type": "code",
   "execution_count": 26,
   "id": "844bf492",
   "metadata": {},
   "outputs": [
    {
     "data": {
      "text/plain": [
       "'am'"
      ]
     },
     "execution_count": 26,
     "metadata": {},
     "output_type": "execute_result"
    }
   ],
   "source": [
    "last_letters"
   ]
  },
  {
   "cell_type": "code",
   "execution_count": 27,
   "id": "0260fc8b",
   "metadata": {},
   "outputs": [
    {
     "data": {
      "text/plain": [
       "'Kam'"
      ]
     },
     "execution_count": 27,
     "metadata": {},
     "output_type": "execute_result"
    }
   ],
   "source": [
    "'K'+last_letters"
   ]
  },
  {
   "cell_type": "code",
   "execution_count": 28,
   "id": "f2e1ec1a",
   "metadata": {},
   "outputs": [],
   "source": [
    "x = 'I love plantain '"
   ]
  },
  {
   "cell_type": "code",
   "execution_count": 30,
   "id": "bb31ddc9",
   "metadata": {},
   "outputs": [
    {
     "data": {
      "text/plain": [
       "'I love plantain and beans on a saturday afternoon'"
      ]
     },
     "execution_count": 30,
     "metadata": {},
     "output_type": "execute_result"
    }
   ],
   "source": [
    "x +' and beans on a saturday afternoon'"
   ]
  },
  {
   "cell_type": "code",
   "execution_count": 31,
   "id": "e5fd4eb3",
   "metadata": {},
   "outputs": [
    {
     "data": {
      "text/plain": [
       "'I LOVE PLANTAIN'"
      ]
     },
     "execution_count": 31,
     "metadata": {},
     "output_type": "execute_result"
    }
   ],
   "source": [
    "x.upper()"
   ]
  },
  {
   "cell_type": "code",
   "execution_count": null,
   "id": "aea2dd51",
   "metadata": {},
   "outputs": [],
   "source": [
    "# PRINT FORMATTING #"
   ]
  },
  {
   "cell_type": "code",
   "execution_count": 1,
   "id": "bf60beac",
   "metadata": {},
   "outputs": [
    {
     "name": "stdout",
     "output_type": "stream",
     "text": [
      "this is a string and i am a bad guy\n"
     ]
    }
   ],
   "source": [
    "print('this is a string{}'.format(' and i am a bad guy'))"
   ]
  },
  {
   "cell_type": "code",
   "execution_count": 34,
   "id": "106cb697",
   "metadata": {},
   "outputs": [
    {
     "name": "stdout",
     "output_type": "stream",
     "text": [
      "Ronaldo is a baller\n"
     ]
    }
   ],
   "source": [
    "print('Ronaldo is a {}'.format('baller'))"
   ]
  },
  {
   "cell_type": "code",
   "execution_count": 37,
   "id": "48c41f77",
   "metadata": {},
   "outputs": [
    {
     "name": "stdout",
     "output_type": "stream",
     "text": [
      "The fox fox fox\n"
     ]
    }
   ],
   "source": [
    "print('The {2} {2} {2}'.format('quick','brown','fox'))"
   ]
  },
  {
   "cell_type": "code",
   "execution_count": 38,
   "id": "cd9834a1",
   "metadata": {},
   "outputs": [
    {
     "name": "stdout",
     "output_type": "stream",
     "text": [
      "The quick brown fox\n"
     ]
    }
   ],
   "source": [
    "print('The {q} {b} {f}'.format(f='fox', q='quick',b='brown'))"
   ]
  },
  {
   "cell_type": "code",
   "execution_count": 39,
   "id": "3dc87467",
   "metadata": {},
   "outputs": [],
   "source": [
    "#FLOAT FORMATTING WITH THE .FORMAT METHOD#\n",
    "ALLOWS YOU ADJUST THE WIDTH AND PRECISION OF A FLOATING POINT NUMBER"
   ]
  },
  {
   "cell_type": "code",
   "execution_count": 46,
   "id": "492f8c83",
   "metadata": {},
   "outputs": [],
   "source": [
    "result = 50/623"
   ]
  },
  {
   "cell_type": "code",
   "execution_count": 47,
   "id": "38086bc5",
   "metadata": {},
   "outputs": [
    {
     "data": {
      "text/plain": [
       "0.08025682182985554"
      ]
     },
     "execution_count": 47,
     "metadata": {},
     "output_type": "execute_result"
    }
   ],
   "source": [
    "result"
   ]
  },
  {
   "cell_type": "code",
   "execution_count": 48,
   "id": "28747628",
   "metadata": {},
   "outputs": [
    {
     "name": "stdout",
     "output_type": "stream",
     "text": [
      "The result is 0.08025682182985554\n"
     ]
    }
   ],
   "source": [
    "print(\"The result is {}\".format(result))"
   ]
  },
  {
   "cell_type": "code",
   "execution_count": 50,
   "id": "68dfe69f",
   "metadata": {},
   "outputs": [
    {
     "name": "stdout",
     "output_type": "stream",
     "text": [
      "The result is 0.08025682182985554\n"
     ]
    }
   ],
   "source": [
    "print(\"The result is {r}\".format(r=result))"
   ]
  },
  {
   "cell_type": "code",
   "execution_count": 51,
   "id": "8188f769",
   "metadata": {},
   "outputs": [],
   "source": [
    "#{Value:width.precision f}#"
   ]
  },
  {
   "cell_type": "code",
   "execution_count": 52,
   "id": "001cc3e7",
   "metadata": {},
   "outputs": [
    {
     "data": {
      "text/plain": [
       "0.08025682182985554"
      ]
     },
     "execution_count": 52,
     "metadata": {},
     "output_type": "execute_result"
    }
   ],
   "source": [
    "result"
   ]
  },
  {
   "cell_type": "code",
   "execution_count": 56,
   "id": "92162df9",
   "metadata": {},
   "outputs": [
    {
     "name": "stdout",
     "output_type": "stream",
     "text": [
      "The result is 0.08026\n"
     ]
    }
   ],
   "source": [
    "print(\"The result is {r:1.5f}\".format(r=result))"
   ]
  },
  {
   "cell_type": "code",
   "execution_count": 57,
   "id": "8ac69b30",
   "metadata": {},
   "outputs": [],
   "source": [
    "#F Strings (formatted string literals)#\n",
    "Allows you skip using .format so you can just write the variable name directly inside the \n",
    "string"
   ]
  },
  {
   "cell_type": "code",
   "execution_count": 60,
   "id": "df695be2",
   "metadata": {},
   "outputs": [],
   "source": [
    "Name = \"Oduthesixth\""
   ]
  },
  {
   "cell_type": "markdown",
   "id": "8d4d7d6e",
   "metadata": {},
   "source": [
    "Name"
   ]
  },
  {
   "cell_type": "code",
   "execution_count": 61,
   "id": "9eca7122",
   "metadata": {},
   "outputs": [
    {
     "data": {
      "text/plain": [
       "'Oduthesixth'"
      ]
     },
     "execution_count": 61,
     "metadata": {},
     "output_type": "execute_result"
    }
   ],
   "source": [
    "Name"
   ]
  },
  {
   "cell_type": "code",
   "execution_count": 63,
   "id": "be5a7794",
   "metadata": {},
   "outputs": [
    {
     "name": "stdout",
     "output_type": "stream",
     "text": [
      "My name is Oduthesixth\n"
     ]
    }
   ],
   "source": [
    "print('My name is {n}'.format(n=Name))"
   ]
  },
  {
   "cell_type": "code",
   "execution_count": 66,
   "id": "7c1789e9",
   "metadata": {},
   "outputs": [
    {
     "name": "stdout",
     "output_type": "stream",
     "text": [
      "My name is Oduthesixth\n"
     ]
    }
   ],
   "source": [
    "print(f'My name is {Name}')"
   ]
  },
  {
   "cell_type": "markdown",
   "id": "28161190",
   "metadata": {},
   "source": []
  },
  {
   "cell_type": "code",
   "execution_count": 67,
   "id": "9e5aa05c",
   "metadata": {},
   "outputs": [],
   "source": [
    "Name=\"James\"\n",
    "Age = 18"
   ]
  },
  {
   "cell_type": "code",
   "execution_count": 68,
   "id": "02fe347e",
   "metadata": {},
   "outputs": [
    {
     "name": "stdout",
     "output_type": "stream",
     "text": [
      "At the age of 18, James was playing in the NBA\n"
     ]
    }
   ],
   "source": [
    "print(f'At the age of {Age}, {Name} was playing in the NBA')"
   ]
  },
  {
   "cell_type": "code",
   "execution_count": 69,
   "id": "7828d810",
   "metadata": {},
   "outputs": [],
   "source": [
    "#LISTS#"
   ]
  },
  {
   "cell_type": "code",
   "execution_count": 70,
   "id": "e467a6a4",
   "metadata": {},
   "outputs": [],
   "source": [
    "my_list=[1,2,3,4,5]"
   ]
  },
  {
   "cell_type": "code",
   "execution_count": 74,
   "id": "ef92c8b5",
   "metadata": {},
   "outputs": [],
   "source": [
    "my_list=['string', 35, 15,3.5]"
   ]
  },
  {
   "cell_type": "code",
   "execution_count": 75,
   "id": "327dd5ce",
   "metadata": {},
   "outputs": [
    {
     "data": {
      "text/plain": [
       "35"
      ]
     },
     "execution_count": 75,
     "metadata": {},
     "output_type": "execute_result"
    }
   ],
   "source": [
    "my_list[1]"
   ]
  },
  {
   "cell_type": "code",
   "execution_count": 76,
   "id": "291cbcba",
   "metadata": {},
   "outputs": [
    {
     "data": {
      "text/plain": [
       "4"
      ]
     },
     "execution_count": 76,
     "metadata": {},
     "output_type": "execute_result"
    }
   ],
   "source": [
    "len(my_list)"
   ]
  },
  {
   "cell_type": "markdown",
   "id": "4ea2bbea",
   "metadata": {},
   "source": []
  },
  {
   "cell_type": "code",
   "execution_count": 77,
   "id": "e453fcd9",
   "metadata": {},
   "outputs": [],
   "source": [
    "mylist=['one', 'two', 'three','four','five']"
   ]
  },
  {
   "cell_type": "code",
   "execution_count": 78,
   "id": "f5ef6f21",
   "metadata": {},
   "outputs": [
    {
     "data": {
      "text/plain": [
       "'three'"
      ]
     },
     "execution_count": 78,
     "metadata": {},
     "output_type": "execute_result"
    }
   ],
   "source": [
    "mylist[2]"
   ]
  },
  {
   "cell_type": "code",
   "execution_count": 79,
   "id": "65a9d690",
   "metadata": {},
   "outputs": [
    {
     "data": {
      "text/plain": [
       "['one', 'two', 'three']"
      ]
     },
     "execution_count": 79,
     "metadata": {},
     "output_type": "execute_result"
    }
   ],
   "source": [
    "mylist[:3]"
   ]
  },
  {
   "cell_type": "code",
   "execution_count": 80,
   "id": "f846acbf",
   "metadata": {},
   "outputs": [
    {
     "data": {
      "text/plain": [
       "['three', 'four', 'five']"
      ]
     },
     "execution_count": 80,
     "metadata": {},
     "output_type": "execute_result"
    }
   ],
   "source": [
    "mylist[2:]"
   ]
  },
  {
   "cell_type": "code",
   "execution_count": 81,
   "id": "2d286c16",
   "metadata": {},
   "outputs": [],
   "source": [
    "mysecondlist=['six', 'seven', 'eight']"
   ]
  },
  {
   "cell_type": "code",
   "execution_count": 83,
   "id": "5ff7167e",
   "metadata": {},
   "outputs": [],
   "source": [
    "new_list = mylist + mysecondlist"
   ]
  },
  {
   "cell_type": "code",
   "execution_count": 84,
   "id": "553013b2",
   "metadata": {},
   "outputs": [
    {
     "data": {
      "text/plain": [
       "['one', 'two', 'three', 'four', 'five', 'six', 'seven', 'eight']"
      ]
     },
     "execution_count": 84,
     "metadata": {},
     "output_type": "execute_result"
    }
   ],
   "source": [
    "new_list"
   ]
  },
  {
   "cell_type": "code",
   "execution_count": 85,
   "id": "f3b2dea6",
   "metadata": {},
   "outputs": [],
   "source": [
    "new_list[3]= 'FOUR'"
   ]
  },
  {
   "cell_type": "code",
   "execution_count": 86,
   "id": "8576f933",
   "metadata": {},
   "outputs": [
    {
     "data": {
      "text/plain": [
       "['one', 'two', 'three', 'FOUR', 'five', 'six', 'seven', 'eight']"
      ]
     },
     "execution_count": 86,
     "metadata": {},
     "output_type": "execute_result"
    }
   ],
   "source": [
    "new_list"
   ]
  },
  {
   "cell_type": "code",
   "execution_count": 88,
   "id": "6661a27b",
   "metadata": {},
   "outputs": [],
   "source": [
    "new_list.reverse()"
   ]
  },
  {
   "cell_type": "code",
   "execution_count": 89,
   "id": "7c0502f3",
   "metadata": {},
   "outputs": [
    {
     "data": {
      "text/plain": [
       "['eight', 'seven', 'six', 'five', 'FOUR', 'three', 'two', 'one']"
      ]
     },
     "execution_count": 89,
     "metadata": {},
     "output_type": "execute_result"
    }
   ],
   "source": [
    "new_list"
   ]
  },
  {
   "cell_type": "code",
   "execution_count": 92,
   "id": "c8427717",
   "metadata": {},
   "outputs": [],
   "source": [
    "new_list.reverse()"
   ]
  },
  {
   "cell_type": "code",
   "execution_count": 93,
   "id": "9b4e5901",
   "metadata": {},
   "outputs": [
    {
     "data": {
      "text/plain": [
       "['eight', 'seven', 'six', 'five', 'FOUR', 'three', 'two', 'one']"
      ]
     },
     "execution_count": 93,
     "metadata": {},
     "output_type": "execute_result"
    }
   ],
   "source": [
    "new_list"
   ]
  },
  {
   "cell_type": "code",
   "execution_count": 94,
   "id": "0fe0a3ad",
   "metadata": {},
   "outputs": [],
   "source": [
    "new_list.reverse()"
   ]
  },
  {
   "cell_type": "code",
   "execution_count": 95,
   "id": "27e32640",
   "metadata": {},
   "outputs": [
    {
     "data": {
      "text/plain": [
       "['one', 'two', 'three', 'FOUR', 'five', 'six', 'seven', 'eight']"
      ]
     },
     "execution_count": 95,
     "metadata": {},
     "output_type": "execute_result"
    }
   ],
   "source": [
    "new_list"
   ]
  },
  {
   "cell_type": "code",
   "execution_count": 96,
   "id": "1bb4327b",
   "metadata": {},
   "outputs": [],
   "source": [
    "new_list.append('nine')"
   ]
  },
  {
   "cell_type": "code",
   "execution_count": 97,
   "id": "ab3ad9c2",
   "metadata": {},
   "outputs": [
    {
     "data": {
      "text/plain": [
       "['one', 'two', 'three', 'FOUR', 'five', 'six', 'seven', 'eight', 'nine']"
      ]
     },
     "execution_count": 97,
     "metadata": {},
     "output_type": "execute_result"
    }
   ],
   "source": [
    "new_list"
   ]
  },
  {
   "cell_type": "code",
   "execution_count": 98,
   "id": "5cbc0522",
   "metadata": {},
   "outputs": [
    {
     "data": {
      "text/plain": [
       "'nine'"
      ]
     },
     "execution_count": 98,
     "metadata": {},
     "output_type": "execute_result"
    }
   ],
   "source": [
    "new_list.pop()"
   ]
  },
  {
   "cell_type": "code",
   "execution_count": 99,
   "id": "10019a92",
   "metadata": {},
   "outputs": [
    {
     "data": {
      "text/plain": [
       "['one', 'two', 'three', 'FOUR', 'five', 'six', 'seven', 'eight']"
      ]
     },
     "execution_count": 99,
     "metadata": {},
     "output_type": "execute_result"
    }
   ],
   "source": [
    "new_list"
   ]
  },
  {
   "cell_type": "code",
   "execution_count": 100,
   "id": "0810da38",
   "metadata": {},
   "outputs": [
    {
     "data": {
      "text/plain": [
       "'one'"
      ]
     },
     "execution_count": 100,
     "metadata": {},
     "output_type": "execute_result"
    }
   ],
   "source": [
    "new_list.pop(0)"
   ]
  },
  {
   "cell_type": "code",
   "execution_count": 101,
   "id": "2c8583f4",
   "metadata": {},
   "outputs": [
    {
     "data": {
      "text/plain": [
       "['two', 'three', 'FOUR', 'five', 'six', 'seven', 'eight']"
      ]
     },
     "execution_count": 101,
     "metadata": {},
     "output_type": "execute_result"
    }
   ],
   "source": [
    "new_list"
   ]
  },
  {
   "cell_type": "code",
   "execution_count": null,
   "id": "2879d316",
   "metadata": {},
   "outputs": [],
   "source": []
  },
  {
   "cell_type": "code",
   "execution_count": 102,
   "id": "7aba0571",
   "metadata": {},
   "outputs": [],
   "source": [
    "new_list = ['a', 'q', 'j', 'r', 'w', 'p']"
   ]
  },
  {
   "cell_type": "code",
   "execution_count": 103,
   "id": "b41aa342",
   "metadata": {},
   "outputs": [],
   "source": [
    "new_list.sort()"
   ]
  },
  {
   "cell_type": "code",
   "execution_count": 104,
   "id": "8faf2b0e",
   "metadata": {},
   "outputs": [
    {
     "data": {
      "text/plain": [
       "['a', 'j', 'p', 'q', 'r', 'w']"
      ]
     },
     "execution_count": 104,
     "metadata": {},
     "output_type": "execute_result"
    }
   ],
   "source": [
    "new_list"
   ]
  },
  {
   "cell_type": "code",
   "execution_count": 105,
   "id": "d3b91aa5",
   "metadata": {},
   "outputs": [],
   "source": [
    "new_list.sort()\n",
    "mysortedlist = new_list"
   ]
  },
  {
   "cell_type": "code",
   "execution_count": 106,
   "id": "76ad3f89",
   "metadata": {},
   "outputs": [
    {
     "data": {
      "text/plain": [
       "['a', 'j', 'p', 'q', 'r', 'w']"
      ]
     },
     "execution_count": 106,
     "metadata": {},
     "output_type": "execute_result"
    }
   ],
   "source": [
    "mysortedlist"
   ]
  },
  {
   "cell_type": "code",
   "execution_count": 107,
   "id": "9e3a7bbe",
   "metadata": {},
   "outputs": [],
   "source": [
    "numlist=['4','2','7','5','9']"
   ]
  },
  {
   "cell_type": "code",
   "execution_count": 108,
   "id": "18bf324e",
   "metadata": {},
   "outputs": [],
   "source": [
    "numlist.sort()"
   ]
  },
  {
   "cell_type": "code",
   "execution_count": 109,
   "id": "cea7be7c",
   "metadata": {},
   "outputs": [
    {
     "data": {
      "text/plain": [
       "['2', '4', '5', '7', '9']"
      ]
     },
     "execution_count": 109,
     "metadata": {},
     "output_type": "execute_result"
    }
   ],
   "source": [
    "numlist"
   ]
  },
  {
   "cell_type": "code",
   "execution_count": 110,
   "id": "451b4631",
   "metadata": {},
   "outputs": [],
   "source": [
    "numlist.reverse()"
   ]
  },
  {
   "cell_type": "code",
   "execution_count": 111,
   "id": "32c6c64e",
   "metadata": {},
   "outputs": [
    {
     "data": {
      "text/plain": [
       "['9', '7', '5', '4', '2']"
      ]
     },
     "execution_count": 111,
     "metadata": {},
     "output_type": "execute_result"
    }
   ],
   "source": [
    "numlist"
   ]
  },
  {
   "cell_type": "code",
   "execution_count": 112,
   "id": "c7d1cd48",
   "metadata": {},
   "outputs": [],
   "source": [
    "#DICTIONARIES#\n",
    "#Objects retrieved by key name, unordered and cannot be sorted#"
   ]
  },
  {
   "cell_type": "code",
   "execution_count": 114,
   "id": "802c1936",
   "metadata": {},
   "outputs": [],
   "source": [
    "mydictionary={'key1':'Value1','key2':'Value2'}"
   ]
  },
  {
   "cell_type": "code",
   "execution_count": 115,
   "id": "1408d089",
   "metadata": {},
   "outputs": [
    {
     "data": {
      "text/plain": [
       "{'key1': 'Value1', 'key2': 'Value2'}"
      ]
     },
     "execution_count": 115,
     "metadata": {},
     "output_type": "execute_result"
    }
   ],
   "source": [
    "mydictionary"
   ]
  },
  {
   "cell_type": "code",
   "execution_count": 116,
   "id": "56d923e3",
   "metadata": {},
   "outputs": [
    {
     "data": {
      "text/plain": [
       "'Value1'"
      ]
     },
     "execution_count": 116,
     "metadata": {},
     "output_type": "execute_result"
    }
   ],
   "source": [
    "mydictionary['key1']"
   ]
  },
  {
   "cell_type": "code",
   "execution_count": 117,
   "id": "745c6758",
   "metadata": {},
   "outputs": [],
   "source": [
    "dict_prices={'Rice':20000,'beans':15000,'Fish':7500}"
   ]
  },
  {
   "cell_type": "code",
   "execution_count": 118,
   "id": "5906b1c1",
   "metadata": {},
   "outputs": [
    {
     "data": {
      "text/plain": [
       "15000"
      ]
     },
     "execution_count": 118,
     "metadata": {},
     "output_type": "execute_result"
    }
   ],
   "source": [
    "dict_prices['beans']"
   ]
  },
  {
   "cell_type": "code",
   "execution_count": 119,
   "id": "1988847b",
   "metadata": {},
   "outputs": [],
   "source": [
    "new_dictionary = {'k1':50,'k2':[3,4,5]}"
   ]
  },
  {
   "cell_type": "code",
   "execution_count": 120,
   "id": "4b61cc0e",
   "metadata": {},
   "outputs": [
    {
     "data": {
      "text/plain": [
       "[3, 4, 5]"
      ]
     },
     "execution_count": 120,
     "metadata": {},
     "output_type": "execute_result"
    }
   ],
   "source": [
    "new_dictionary['k2']"
   ]
  },
  {
   "cell_type": "code",
   "execution_count": 121,
   "id": "6738e23e",
   "metadata": {},
   "outputs": [],
   "source": [
    "new_dictionary = {'k1':50,'k2':[3,4,5],'k3':{'innerkey':7.5}}"
   ]
  },
  {
   "cell_type": "code",
   "execution_count": 122,
   "id": "7971d3a5",
   "metadata": {},
   "outputs": [
    {
     "data": {
      "text/plain": [
       "{'innerkey': 7.5}"
      ]
     },
     "execution_count": 122,
     "metadata": {},
     "output_type": "execute_result"
    }
   ],
   "source": [
    "new_dictionary['k3']"
   ]
  },
  {
   "cell_type": "code",
   "execution_count": 123,
   "id": "645bd81f",
   "metadata": {},
   "outputs": [
    {
     "data": {
      "text/plain": [
       "4"
      ]
     },
     "execution_count": 123,
     "metadata": {},
     "output_type": "execute_result"
    }
   ],
   "source": [
    "new_dictionary['k2'][1]"
   ]
  },
  {
   "cell_type": "code",
   "execution_count": 124,
   "id": "67d4b3b6",
   "metadata": {},
   "outputs": [
    {
     "data": {
      "text/plain": [
       "7.5"
      ]
     },
     "execution_count": 124,
     "metadata": {},
     "output_type": "execute_result"
    }
   ],
   "source": [
    "new_dictionary['k3']['innerkey']"
   ]
  },
  {
   "cell_type": "code",
   "execution_count": 125,
   "id": "68ec9ebf",
   "metadata": {},
   "outputs": [],
   "source": [
    "later_dictionary={'k1':['a','b','c']}"
   ]
  },
  {
   "cell_type": "code",
   "execution_count": 126,
   "id": "087f9415",
   "metadata": {},
   "outputs": [
    {
     "data": {
      "text/plain": [
       "{'k1': ['a', 'b', 'c']}"
      ]
     },
     "execution_count": 126,
     "metadata": {},
     "output_type": "execute_result"
    }
   ],
   "source": [
    "later_dictionary"
   ]
  },
  {
   "cell_type": "code",
   "execution_count": 128,
   "id": "797a5cd3",
   "metadata": {},
   "outputs": [
    {
     "data": {
      "text/plain": [
       "'c'"
      ]
     },
     "execution_count": 128,
     "metadata": {},
     "output_type": "execute_result"
    }
   ],
   "source": [
    "later_dictionary['k1'][2]"
   ]
  },
  {
   "cell_type": "code",
   "execution_count": 132,
   "id": "084f3617",
   "metadata": {},
   "outputs": [],
   "source": [
    "Capital_letter=later_dictionary['k1'][2]"
   ]
  },
  {
   "cell_type": "code",
   "execution_count": 134,
   "id": "bd82149b",
   "metadata": {},
   "outputs": [
    {
     "data": {
      "text/plain": [
       "'C'"
      ]
     },
     "execution_count": 134,
     "metadata": {},
     "output_type": "execute_result"
    }
   ],
   "source": [
    "Capital_letter.upper()"
   ]
  },
  {
   "cell_type": "code",
   "execution_count": 137,
   "id": "e6557367",
   "metadata": {},
   "outputs": [
    {
     "data": {
      "text/plain": [
       "'B'"
      ]
     },
     "execution_count": 137,
     "metadata": {},
     "output_type": "execute_result"
    }
   ],
   "source": [
    "later_dictionary['k1'][1].upper()"
   ]
  },
  {
   "cell_type": "code",
   "execution_count": 138,
   "id": "f7a85efd",
   "metadata": {},
   "outputs": [],
   "source": [
    "later_dictionary['k2']='plantain chips'"
   ]
  },
  {
   "cell_type": "code",
   "execution_count": 139,
   "id": "afbe6f5c",
   "metadata": {},
   "outputs": [
    {
     "data": {
      "text/plain": [
       "{'k1': ['a', 'b', 'c'], 'k2': 'plantain chips'}"
      ]
     },
     "execution_count": 139,
     "metadata": {},
     "output_type": "execute_result"
    }
   ],
   "source": [
    "later_dictionary"
   ]
  },
  {
   "cell_type": "code",
   "execution_count": 140,
   "id": "7a8325a8",
   "metadata": {},
   "outputs": [],
   "source": [
    "later_dictionary['k1']='New Value'"
   ]
  },
  {
   "cell_type": "code",
   "execution_count": 141,
   "id": "a4cdf2c9",
   "metadata": {},
   "outputs": [
    {
     "data": {
      "text/plain": [
       "{'k1': 'New Value', 'k2': 'plantain chips'}"
      ]
     },
     "execution_count": 141,
     "metadata": {},
     "output_type": "execute_result"
    }
   ],
   "source": [
    "later_dictionary"
   ]
  },
  {
   "cell_type": "code",
   "execution_count": 143,
   "id": "c8a798fb",
   "metadata": {},
   "outputs": [
    {
     "data": {
      "text/plain": [
       "dict_keys(['k1', 'k2'])"
      ]
     },
     "execution_count": 143,
     "metadata": {},
     "output_type": "execute_result"
    }
   ],
   "source": [
    "#TO SEE ALL THE KEYS#\n",
    "later_dictionary.keys()"
   ]
  },
  {
   "cell_type": "code",
   "execution_count": 145,
   "id": "4b9defb2",
   "metadata": {},
   "outputs": [
    {
     "data": {
      "text/plain": [
       "dict_values(['New Value', 'plantain chips'])"
      ]
     },
     "execution_count": 145,
     "metadata": {},
     "output_type": "execute_result"
    }
   ],
   "source": [
    "#TO SEE ALL THE VALUES#\n",
    "later_dictionary.values()"
   ]
  },
  {
   "cell_type": "code",
   "execution_count": 147,
   "id": "2f9c397d",
   "metadata": {},
   "outputs": [
    {
     "data": {
      "text/plain": [
       "dict_items([('k1', 'New Value'), ('k2', 'plantain chips')])"
      ]
     },
     "execution_count": 147,
     "metadata": {},
     "output_type": "execute_result"
    }
   ],
   "source": [
    "#TO GET THE PAIRS TOGETHER#\n",
    "later_dictionary.items()"
   ]
  },
  {
   "cell_type": "code",
   "execution_count": 148,
   "id": "8be0a54b",
   "metadata": {},
   "outputs": [],
   "source": [
    "d={'k1':100,'k2':200,'k3':300}"
   ]
  },
  {
   "cell_type": "code",
   "execution_count": 150,
   "id": "7a4800e0",
   "metadata": {},
   "outputs": [
    {
     "data": {
      "text/plain": [
       "dict_keys(['k1', 'k2', 'k3'])"
      ]
     },
     "execution_count": 150,
     "metadata": {},
     "output_type": "execute_result"
    }
   ],
   "source": [
    "d.keys()"
   ]
  },
  {
   "cell_type": "code",
   "execution_count": null,
   "id": "14905346",
   "metadata": {},
   "outputs": [],
   "source": []
  },
  {
   "cell_type": "code",
   "execution_count": 151,
   "id": "e9a93c11",
   "metadata": {},
   "outputs": [
    {
     "data": {
      "text/plain": [
       "dict_values([100, 200, 300])"
      ]
     },
     "execution_count": 151,
     "metadata": {},
     "output_type": "execute_result"
    }
   ],
   "source": [
    "d.values()"
   ]
  },
  {
   "cell_type": "code",
   "execution_count": 152,
   "id": "0c66709b",
   "metadata": {},
   "outputs": [
    {
     "data": {
      "text/plain": [
       "dict_items([('k1', 100), ('k2', 200), ('k3', 300)])"
      ]
     },
     "execution_count": 152,
     "metadata": {},
     "output_type": "execute_result"
    }
   ],
   "source": [
    "d.items()"
   ]
  },
  {
   "cell_type": "code",
   "execution_count": 154,
   "id": "0bb8434c",
   "metadata": {},
   "outputs": [],
   "source": [
    "#TUPLES#\n",
    "Immutable"
   ]
  },
  {
   "cell_type": "code",
   "execution_count": 155,
   "id": "4c03d68e",
   "metadata": {},
   "outputs": [],
   "source": [
    "t=(1,2,3)"
   ]
  },
  {
   "cell_type": "code",
   "execution_count": 156,
   "id": "48d0b3b2",
   "metadata": {},
   "outputs": [],
   "source": [
    "mylist=[1,2,3]"
   ]
  },
  {
   "cell_type": "code",
   "execution_count": 157,
   "id": "b5938a2d",
   "metadata": {},
   "outputs": [
    {
     "data": {
      "text/plain": [
       "tuple"
      ]
     },
     "execution_count": 157,
     "metadata": {},
     "output_type": "execute_result"
    }
   ],
   "source": [
    "type(t)"
   ]
  },
  {
   "cell_type": "code",
   "execution_count": 158,
   "id": "f89a4f76",
   "metadata": {},
   "outputs": [
    {
     "data": {
      "text/plain": [
       "list"
      ]
     },
     "execution_count": 158,
     "metadata": {},
     "output_type": "execute_result"
    }
   ],
   "source": [
    "type(mylist)"
   ]
  },
  {
   "cell_type": "code",
   "execution_count": 159,
   "id": "38c58f09",
   "metadata": {},
   "outputs": [],
   "source": [
    "t=('one', 2, 'three')"
   ]
  },
  {
   "cell_type": "code",
   "execution_count": 160,
   "id": "f227dfb0",
   "metadata": {},
   "outputs": [
    {
     "data": {
      "text/plain": [
       "'one'"
      ]
     },
     "execution_count": 160,
     "metadata": {},
     "output_type": "execute_result"
    }
   ],
   "source": [
    "t[0]"
   ]
  },
  {
   "cell_type": "code",
   "execution_count": 181,
   "id": "bad1bbb4",
   "metadata": {},
   "outputs": [],
   "source": [
    "mytuple=(2,1,3,4,2,4,1,3,4,2,4,3,4,'one', 'two', 'three','three','one', 'two')"
   ]
  },
  {
   "cell_type": "code",
   "execution_count": 182,
   "id": "e940b891",
   "metadata": {},
   "outputs": [
    {
     "data": {
      "text/plain": [
       "2"
      ]
     },
     "execution_count": 182,
     "metadata": {},
     "output_type": "execute_result"
    }
   ],
   "source": [
    "mytuple.count(1)"
   ]
  },
  {
   "cell_type": "code",
   "execution_count": 183,
   "id": "1f1c892c",
   "metadata": {},
   "outputs": [
    {
     "data": {
      "text/plain": [
       "3"
      ]
     },
     "execution_count": 183,
     "metadata": {},
     "output_type": "execute_result"
    }
   ],
   "source": [
    "mytuple.count(3)"
   ]
  },
  {
   "cell_type": "code",
   "execution_count": 184,
   "id": "2b2b7a62",
   "metadata": {},
   "outputs": [
    {
     "data": {
      "text/plain": [
       "5"
      ]
     },
     "execution_count": 184,
     "metadata": {},
     "output_type": "execute_result"
    }
   ],
   "source": [
    "mytuple.count(4)"
   ]
  },
  {
   "cell_type": "code",
   "execution_count": 185,
   "id": "42a2aecb",
   "metadata": {},
   "outputs": [
    {
     "data": {
      "text/plain": [
       "3"
      ]
     },
     "execution_count": 185,
     "metadata": {},
     "output_type": "execute_result"
    }
   ],
   "source": [
    "mytuple.count(2)"
   ]
  },
  {
   "cell_type": "code",
   "execution_count": 186,
   "id": "363f48f6",
   "metadata": {},
   "outputs": [
    {
     "data": {
      "text/plain": [
       "2"
      ]
     },
     "execution_count": 186,
     "metadata": {},
     "output_type": "execute_result"
    }
   ],
   "source": [
    "mytuple.index(3)"
   ]
  },
  {
   "cell_type": "code",
   "execution_count": 187,
   "id": "a3b1939b",
   "metadata": {},
   "outputs": [
    {
     "data": {
      "text/plain": [
       "3"
      ]
     },
     "execution_count": 187,
     "metadata": {},
     "output_type": "execute_result"
    }
   ],
   "source": [
    "mytuple.index(4)"
   ]
  },
  {
   "cell_type": "code",
   "execution_count": 188,
   "id": "1cab636a",
   "metadata": {},
   "outputs": [
    {
     "data": {
      "text/plain": [
       "1"
      ]
     },
     "execution_count": 188,
     "metadata": {},
     "output_type": "execute_result"
    }
   ],
   "source": [
    "mytuple.index(1)"
   ]
  },
  {
   "cell_type": "code",
   "execution_count": 189,
   "id": "c15166cd",
   "metadata": {},
   "outputs": [
    {
     "data": {
      "text/plain": [
       "0"
      ]
     },
     "execution_count": 189,
     "metadata": {},
     "output_type": "execute_result"
    }
   ],
   "source": [
    "mytuple.index(2)"
   ]
  },
  {
   "cell_type": "code",
   "execution_count": 190,
   "id": "ba37201a",
   "metadata": {},
   "outputs": [
    {
     "data": {
      "text/plain": [
       "2"
      ]
     },
     "execution_count": 190,
     "metadata": {},
     "output_type": "execute_result"
    }
   ],
   "source": [
    "mytuple.count('one')"
   ]
  },
  {
   "cell_type": "code",
   "execution_count": 191,
   "id": "c4418502",
   "metadata": {},
   "outputs": [
    {
     "data": {
      "text/plain": [
       "14"
      ]
     },
     "execution_count": 191,
     "metadata": {},
     "output_type": "execute_result"
    }
   ],
   "source": [
    "mytuple.index('two')"
   ]
  },
  {
   "cell_type": "code",
   "execution_count": 192,
   "id": "8b106266",
   "metadata": {},
   "outputs": [
    {
     "data": {
      "text/plain": [
       "[1, 2, 3]"
      ]
     },
     "execution_count": 192,
     "metadata": {},
     "output_type": "execute_result"
    }
   ],
   "source": [
    "mylist"
   ]
  },
  {
   "cell_type": "code",
   "execution_count": 193,
   "id": "75c8439f",
   "metadata": {},
   "outputs": [],
   "source": [
    "mylist[0]='one'"
   ]
  },
  {
   "cell_type": "code",
   "execution_count": 194,
   "id": "26499274",
   "metadata": {},
   "outputs": [
    {
     "data": {
      "text/plain": [
       "['one', 2, 3]"
      ]
     },
     "execution_count": 194,
     "metadata": {},
     "output_type": "execute_result"
    }
   ],
   "source": [
    "mylist"
   ]
  },
  {
   "cell_type": "code",
   "execution_count": 196,
   "id": "94333e40",
   "metadata": {},
   "outputs": [
    {
     "data": {
      "text/plain": [
       "('one', 2, 'three')"
      ]
     },
     "execution_count": 196,
     "metadata": {},
     "output_type": "execute_result"
    }
   ],
   "source": [
    "t"
   ]
  },
  {
   "cell_type": "code",
   "execution_count": 197,
   "id": "6d39c512",
   "metadata": {},
   "outputs": [],
   "source": [
    "t=(1,2,3,4,5)"
   ]
  },
  {
   "cell_type": "code",
   "execution_count": 198,
   "id": "4169ff26",
   "metadata": {},
   "outputs": [
    {
     "ename": "TypeError",
     "evalue": "'tuple' object does not support item assignment",
     "output_type": "error",
     "traceback": [
      "\u001b[0;31m---------------------------------------------------------------------------\u001b[0m",
      "\u001b[0;31mTypeError\u001b[0m                                 Traceback (most recent call last)",
      "\u001b[0;32m/var/folders/h7/f_q0_vvj4650tbqr1mc0c21m0000gn/T/ipykernel_41545/668541118.py\u001b[0m in \u001b[0;36m<module>\u001b[0;34m\u001b[0m\n\u001b[0;32m----> 1\u001b[0;31m \u001b[0mt\u001b[0m\u001b[0;34m[\u001b[0m\u001b[0;36m0\u001b[0m\u001b[0;34m]\u001b[0m\u001b[0;34m=\u001b[0m\u001b[0;34m'one'\u001b[0m\u001b[0;34m\u001b[0m\u001b[0;34m\u001b[0m\u001b[0m\n\u001b[0m",
      "\u001b[0;31mTypeError\u001b[0m: 'tuple' object does not support item assignment"
     ]
    }
   ],
   "source": [
    "t[0]='one'"
   ]
  },
  {
   "cell_type": "code",
   "execution_count": 199,
   "id": "8485cbb5",
   "metadata": {},
   "outputs": [],
   "source": [
    "#Tuples only have two methods associated with them, they dont have a lot#"
   ]
  },
  {
   "cell_type": "code",
   "execution_count": 200,
   "id": "ef750dd0",
   "metadata": {},
   "outputs": [],
   "source": [
    "#SETS#"
   ]
  },
  {
   "cell_type": "code",
   "execution_count": 201,
   "id": "c9051266",
   "metadata": {},
   "outputs": [],
   "source": [
    "myset=set()"
   ]
  },
  {
   "cell_type": "code",
   "execution_count": 202,
   "id": "4cef1e7d",
   "metadata": {},
   "outputs": [
    {
     "data": {
      "text/plain": [
       "set()"
      ]
     },
     "execution_count": 202,
     "metadata": {},
     "output_type": "execute_result"
    }
   ],
   "source": [
    "myset"
   ]
  },
  {
   "cell_type": "code",
   "execution_count": 203,
   "id": "13905716",
   "metadata": {},
   "outputs": [],
   "source": [
    "myset.add(1)"
   ]
  },
  {
   "cell_type": "code",
   "execution_count": 204,
   "id": "1089bfb7",
   "metadata": {},
   "outputs": [
    {
     "data": {
      "text/plain": [
       "{1}"
      ]
     },
     "execution_count": 204,
     "metadata": {},
     "output_type": "execute_result"
    }
   ],
   "source": [
    "myset"
   ]
  },
  {
   "cell_type": "code",
   "execution_count": 205,
   "id": "4e5a322f",
   "metadata": {},
   "outputs": [],
   "source": [
    "myset.add(2)"
   ]
  },
  {
   "cell_type": "code",
   "execution_count": 206,
   "id": "04c61669",
   "metadata": {},
   "outputs": [
    {
     "data": {
      "text/plain": [
       "{1, 2}"
      ]
     },
     "execution_count": 206,
     "metadata": {},
     "output_type": "execute_result"
    }
   ],
   "source": [
    "myset"
   ]
  },
  {
   "cell_type": "code",
   "execution_count": 207,
   "id": "468c8837",
   "metadata": {},
   "outputs": [],
   "source": [
    "myset.add(2)"
   ]
  },
  {
   "cell_type": "code",
   "execution_count": 208,
   "id": "a7f298cd",
   "metadata": {},
   "outputs": [
    {
     "data": {
      "text/plain": [
       "{1, 2}"
      ]
     },
     "execution_count": 208,
     "metadata": {},
     "output_type": "execute_result"
    }
   ],
   "source": [
    "myset"
   ]
  },
  {
   "cell_type": "code",
   "execution_count": 215,
   "id": "29ecb519",
   "metadata": {},
   "outputs": [],
   "source": [
    "my_list =[1,2,1,2,3,4,3,2,3,4,4,4,3,1,2,3,2,3,2]"
   ]
  },
  {
   "cell_type": "code",
   "execution_count": 216,
   "id": "1a4b13b3",
   "metadata": {},
   "outputs": [
    {
     "data": {
      "text/plain": [
       "{1, 2, 3, 4}"
      ]
     },
     "execution_count": 216,
     "metadata": {},
     "output_type": "execute_result"
    }
   ],
   "source": [
    "set(my_list)"
   ]
  },
  {
   "cell_type": "code",
   "execution_count": 222,
   "id": "144fd74c",
   "metadata": {},
   "outputs": [
    {
     "data": {
      "text/plain": [
       "{'m'}"
      ]
     },
     "execution_count": 222,
     "metadata": {},
     "output_type": "execute_result"
    }
   ],
   "source": [
    "set('m')"
   ]
  },
  {
   "cell_type": "code",
   "execution_count": 223,
   "id": "1be612f5",
   "metadata": {},
   "outputs": [
    {
     "data": {
      "text/plain": [
       "{'i', 'm', 'p', 's'}"
      ]
     },
     "execution_count": 223,
     "metadata": {},
     "output_type": "execute_result"
    }
   ],
   "source": [
    "set('mississipi')"
   ]
  },
  {
   "cell_type": "code",
   "execution_count": 224,
   "id": "74157dc5",
   "metadata": {},
   "outputs": [
    {
     "data": {
      "text/plain": [
       "{'i', 'm', 'p', 's'}"
      ]
     },
     "execution_count": 224,
     "metadata": {},
     "output_type": "execute_result"
    }
   ],
   "source": [
    "set('ismp')"
   ]
  },
  {
   "cell_type": "code",
   "execution_count": 225,
   "id": "2f16b019",
   "metadata": {},
   "outputs": [
    {
     "data": {
      "text/plain": [
       "{'i', 'm', 'p', 's'}"
      ]
     },
     "execution_count": 225,
     "metadata": {},
     "output_type": "execute_result"
    }
   ],
   "source": [
    "set('simp')"
   ]
  },
  {
   "cell_type": "code",
   "execution_count": null,
   "id": "ab7a72d7",
   "metadata": {},
   "outputs": [],
   "source": []
  },
  {
   "cell_type": "code",
   "execution_count": 226,
   "id": "daa68fcc",
   "metadata": {},
   "outputs": [],
   "source": [
    "#BOOLEANS#"
   ]
  },
  {
   "cell_type": "code",
   "execution_count": 227,
   "id": "69229496",
   "metadata": {},
   "outputs": [
    {
     "data": {
      "text/plain": [
       "True"
      ]
     },
     "execution_count": 227,
     "metadata": {},
     "output_type": "execute_result"
    }
   ],
   "source": [
    "True"
   ]
  },
  {
   "cell_type": "code",
   "execution_count": 228,
   "id": "e2314285",
   "metadata": {},
   "outputs": [
    {
     "data": {
      "text/plain": [
       "False"
      ]
     },
     "execution_count": 228,
     "metadata": {},
     "output_type": "execute_result"
    }
   ],
   "source": [
    "False"
   ]
  },
  {
   "cell_type": "code",
   "execution_count": 229,
   "id": "d9f535c7",
   "metadata": {},
   "outputs": [
    {
     "data": {
      "text/plain": [
       "bool"
      ]
     },
     "execution_count": 229,
     "metadata": {},
     "output_type": "execute_result"
    }
   ],
   "source": [
    "type(True)"
   ]
  },
  {
   "cell_type": "code",
   "execution_count": 230,
   "id": "505ae89e",
   "metadata": {},
   "outputs": [
    {
     "data": {
      "text/plain": [
       "False"
      ]
     },
     "execution_count": 230,
     "metadata": {},
     "output_type": "execute_result"
    }
   ],
   "source": [
    "3 > 4"
   ]
  },
  {
   "cell_type": "code",
   "execution_count": 231,
   "id": "a08733dd",
   "metadata": {},
   "outputs": [
    {
     "data": {
      "text/plain": [
       "True"
      ]
     },
     "execution_count": 231,
     "metadata": {},
     "output_type": "execute_result"
    }
   ],
   "source": [
    "1 == 1"
   ]
  },
  {
   "cell_type": "code",
   "execution_count": 232,
   "id": "c592dc29",
   "metadata": {},
   "outputs": [],
   "source": [
    "b=None"
   ]
  },
  {
   "cell_type": "code",
   "execution_count": 233,
   "id": "ef952d00",
   "metadata": {},
   "outputs": [],
   "source": [
    "# basically saving b for later#"
   ]
  },
  {
   "cell_type": "code",
   "execution_count": 234,
   "id": "236d1ad6",
   "metadata": {},
   "outputs": [
    {
     "data": {
      "text/plain": [
       "{1, 2, 3}"
      ]
     },
     "execution_count": 234,
     "metadata": {},
     "output_type": "execute_result"
    }
   ],
   "source": [
    "set([1,1,2,3])"
   ]
  },
  {
   "cell_type": "code",
   "execution_count": 2,
   "id": "c0dc415a",
   "metadata": {},
   "outputs": [],
   "source": [
    "#INPUT/OUTPUT WITH BASIC FILES IN PYTHON#"
   ]
  },
  {
   "cell_type": "code",
   "execution_count": 3,
   "id": "1f7a0282",
   "metadata": {},
   "outputs": [],
   "source": [
    "#FILEPATHS#"
   ]
  },
  {
   "cell_type": "code",
   "execution_count": null,
   "id": "3a971dfc",
   "metadata": {},
   "outputs": [],
   "source": [
    "#How to open a text file thats in the same location with your python script#"
   ]
  },
  {
   "cell_type": "code",
   "execution_count": 4,
   "id": "c29d0066",
   "metadata": {},
   "outputs": [
    {
     "name": "stdout",
     "output_type": "stream",
     "text": [
      "Writing myfile.txt\n"
     ]
    }
   ],
   "source": [
    "%%writefile myfile.txt\n",
    "Hello this is a text file\n",
    "this is the second line\n",
    "this is the third line"
   ]
  },
  {
   "cell_type": "code",
   "execution_count": 5,
   "id": "f7180f95",
   "metadata": {},
   "outputs": [],
   "source": [
    "myfile=open('myfile.txt')"
   ]
  },
  {
   "cell_type": "code",
   "execution_count": 7,
   "id": "23415b64",
   "metadata": {},
   "outputs": [
    {
     "ename": "FileNotFoundError",
     "evalue": "[Errno 2] No such file or directory: 'whoops_wrong.txt'",
     "output_type": "error",
     "traceback": [
      "\u001b[0;31m---------------------------------------------------------------------------\u001b[0m",
      "\u001b[0;31mFileNotFoundError\u001b[0m                         Traceback (most recent call last)",
      "\u001b[0;32m/var/folders/h7/f_q0_vvj4650tbqr1mc0c21m0000gn/T/ipykernel_6892/1319337865.py\u001b[0m in \u001b[0;36m<module>\u001b[0;34m\u001b[0m\n\u001b[0;32m----> 1\u001b[0;31m \u001b[0mmyfile\u001b[0m\u001b[0;34m=\u001b[0m\u001b[0mopen\u001b[0m\u001b[0;34m(\u001b[0m\u001b[0;34m'whoops_wrong.txt'\u001b[0m\u001b[0;34m)\u001b[0m\u001b[0;34m\u001b[0m\u001b[0;34m\u001b[0m\u001b[0m\n\u001b[0m",
      "\u001b[0;31mFileNotFoundError\u001b[0m: [Errno 2] No such file or directory: 'whoops_wrong.txt'"
     ]
    }
   ],
   "source": [
    "myfile=open('whoops_wrong.txt')"
   ]
  },
  {
   "cell_type": "code",
   "execution_count": 8,
   "id": "816d3e38",
   "metadata": {},
   "outputs": [
    {
     "data": {
      "text/plain": [
       "'/Users/macbook'"
      ]
     },
     "execution_count": 8,
     "metadata": {},
     "output_type": "execute_result"
    }
   ],
   "source": [
    "pwd"
   ]
  },
  {
   "cell_type": "code",
   "execution_count": 9,
   "id": "ef4dcaf3",
   "metadata": {},
   "outputs": [],
   "source": [
    "# That is the same location any .txt file we want to work with will be saved#"
   ]
  },
  {
   "cell_type": "code",
   "execution_count": 10,
   "id": "bf9fc278",
   "metadata": {},
   "outputs": [],
   "source": [
    "myfile=open('myfile.txt')"
   ]
  },
  {
   "cell_type": "code",
   "execution_count": 11,
   "id": "19c8ca26",
   "metadata": {},
   "outputs": [
    {
     "data": {
      "text/plain": [
       "'Hello this is a text file\\nthis is the second line\\nthis is the third line\\n'"
      ]
     },
     "execution_count": 11,
     "metadata": {},
     "output_type": "execute_result"
    }
   ],
   "source": [
    "myfile.read()"
   ]
  },
  {
   "cell_type": "code",
   "execution_count": 12,
   "id": "b1774636",
   "metadata": {},
   "outputs": [
    {
     "data": {
      "text/plain": [
       "''"
      ]
     },
     "execution_count": 12,
     "metadata": {},
     "output_type": "execute_result"
    }
   ],
   "source": [
    "myfile.read()"
   ]
  },
  {
   "cell_type": "code",
   "execution_count": 15,
   "id": "2037b10b",
   "metadata": {},
   "outputs": [
    {
     "data": {
      "text/plain": [
       "0"
      ]
     },
     "execution_count": 15,
     "metadata": {},
     "output_type": "execute_result"
    }
   ],
   "source": [
    "myfile.seek(0) #This is to take it bak=ck and start from the beginning, to avoid getting an empty result like the one above#"
   ]
  },
  {
   "cell_type": "code",
   "execution_count": null,
   "id": "8d151c58",
   "metadata": {},
   "outputs": [],
   "source": [
    "#To grab everything as a string#"
   ]
  },
  {
   "cell_type": "code",
   "execution_count": 14,
   "id": "09d1fa4e",
   "metadata": {},
   "outputs": [
    {
     "data": {
      "text/plain": [
       "'Hello this is a text file\\nthis is the second line\\nthis is the third line\\n'"
      ]
     },
     "execution_count": 14,
     "metadata": {},
     "output_type": "execute_result"
    }
   ],
   "source": [
    "myfile.read()"
   ]
  },
  {
   "cell_type": "code",
   "execution_count": 16,
   "id": "87efa98e",
   "metadata": {},
   "outputs": [],
   "source": [
    "contents=myfile.read()"
   ]
  },
  {
   "cell_type": "code",
   "execution_count": 17,
   "id": "161646f0",
   "metadata": {},
   "outputs": [
    {
     "data": {
      "text/plain": [
       "'Hello this is a text file\\nthis is the second line\\nthis is the third line\\n'"
      ]
     },
     "execution_count": 17,
     "metadata": {},
     "output_type": "execute_result"
    }
   ],
   "source": [
    "contents"
   ]
  },
  {
   "cell_type": "code",
   "execution_count": null,
   "id": "f3eb5ba8",
   "metadata": {},
   "outputs": [],
   "source": [
    "#To give back all the lines in different lines#"
   ]
  },
  {
   "cell_type": "code",
   "execution_count": 19,
   "id": "8ef43ab2",
   "metadata": {},
   "outputs": [
    {
     "data": {
      "text/plain": [
       "0"
      ]
     },
     "execution_count": 19,
     "metadata": {},
     "output_type": "execute_result"
    }
   ],
   "source": [
    "myfile.seek(0)"
   ]
  },
  {
   "cell_type": "code",
   "execution_count": 20,
   "id": "06af7793",
   "metadata": {},
   "outputs": [
    {
     "data": {
      "text/plain": [
       "['Hello this is a text file\\n',\n",
       " 'this is the second line\\n',\n",
       " 'this is the third line\\n']"
      ]
     },
     "execution_count": 20,
     "metadata": {},
     "output_type": "execute_result"
    }
   ],
   "source": [
    "myfile.readlines()"
   ]
  },
  {
   "cell_type": "code",
   "execution_count": 21,
   "id": "01a018a6",
   "metadata": {},
   "outputs": [],
   "source": [
    "#FILE LOCATIONS#\n",
    "#TO OPEN A TEXTFILE AT ANY LOCATION ON YOUR COMPUTER#"
   ]
  },
  {
   "cell_type": "code",
   "execution_count": 23,
   "id": "bf6fd014",
   "metadata": {
    "scrolled": true
   },
   "outputs": [
    {
     "data": {
      "text/plain": [
       "'/Users/macbook'"
      ]
     },
     "execution_count": 23,
     "metadata": {},
     "output_type": "execute_result"
    }
   ],
   "source": [
    "pwd"
   ]
  },
  {
   "cell_type": "code",
   "execution_count": 24,
   "id": "3ac98e4c",
   "metadata": {},
   "outputs": [],
   "source": [
    "myfile.close()"
   ]
  },
  {
   "cell_type": "code",
   "execution_count": 25,
   "id": "04fbc039",
   "metadata": {},
   "outputs": [],
   "source": [
    "#You have to close the file cause if you try to delete it on your laptop without closing, it wont let you because python it still using the file#"
   ]
  },
  {
   "cell_type": "code",
   "execution_count": null,
   "id": "2509a1db",
   "metadata": {},
   "outputs": [],
   "source": [
    "#To be able to close the file even if its still running, do the below#"
   ]
  },
  {
   "cell_type": "code",
   "execution_count": 30,
   "id": "e1d183cd",
   "metadata": {},
   "outputs": [],
   "source": [
    "with open('myfile.txt') as mynewfile:\n",
    "    contents=mynewfile.read()"
   ]
  },
  {
   "cell_type": "code",
   "execution_count": 31,
   "id": "feb06e84",
   "metadata": {},
   "outputs": [
    {
     "data": {
      "text/plain": [
       "'Hello this is a text file\\nthis is the second line\\nthis is the third line\\n'"
      ]
     },
     "execution_count": 31,
     "metadata": {},
     "output_type": "execute_result"
    }
   ],
   "source": [
    "contents"
   ]
  },
  {
   "cell_type": "code",
   "execution_count": 32,
   "id": "a897928d",
   "metadata": {},
   "outputs": [],
   "source": [
    "#READING AND WRITING TO A FILE#"
   ]
  },
  {
   "cell_type": "code",
   "execution_count": 37,
   "id": "a6ada039",
   "metadata": {},
   "outputs": [],
   "source": [
    "with open('myfile.txt',mode='r') as myfile:\n",
    "    contents = myfile.read()"
   ]
  },
  {
   "cell_type": "code",
   "execution_count": 34,
   "id": "68f308f9",
   "metadata": {},
   "outputs": [
    {
     "data": {
      "text/plain": [
       "'Hello this is a text file\\nthis is the second line\\nthis is the third line\\n'"
      ]
     },
     "execution_count": 34,
     "metadata": {},
     "output_type": "execute_result"
    }
   ],
   "source": [
    "contents"
   ]
  },
  {
   "cell_type": "code",
   "execution_count": 38,
   "id": "fb4004a7",
   "metadata": {},
   "outputs": [],
   "source": [
    "#Reading, writing and appending of mode#"
   ]
  },
  {
   "cell_type": "code",
   "execution_count": null,
   "id": "534d6d6e",
   "metadata": {},
   "outputs": [],
   "source": [
    "#Appending (a)#"
   ]
  },
  {
   "cell_type": "code",
   "execution_count": 54,
   "id": "68822086",
   "metadata": {},
   "outputs": [
    {
     "name": "stdout",
     "output_type": "stream",
     "text": [
      "Overwriting mynewfile.txt\n"
     ]
    }
   ],
   "source": [
    "%%writefile mynewfile.txt\n",
    "ONE ON FIRST\n",
    "TWO ON SECOND\n",
    "THREE ON THIRD"
   ]
  },
  {
   "cell_type": "code",
   "execution_count": 55,
   "id": "9b55d2ba",
   "metadata": {},
   "outputs": [
    {
     "name": "stdout",
     "output_type": "stream",
     "text": [
      "ONE ON FIRST\n",
      "TWO ON SECOND\n",
      "THREE ON THIRD\n",
      "\n"
     ]
    }
   ],
   "source": [
    "with open('mynewfile.txt',mode='r') as f:\n",
    "    print(f.read())"
   ]
  },
  {
   "cell_type": "code",
   "execution_count": 56,
   "id": "9c626e0f",
   "metadata": {},
   "outputs": [],
   "source": [
    "with open('mynewfile.txt',mode='a') as f:\n",
    "    f.write('FOUR ON FOURTH')"
   ]
  },
  {
   "cell_type": "code",
   "execution_count": 57,
   "id": "0c7b127d",
   "metadata": {},
   "outputs": [
    {
     "name": "stdout",
     "output_type": "stream",
     "text": [
      "ONE ON FIRST\n",
      "TWO ON SECOND\n",
      "THREE ON THIRD\n",
      "FOUR ON FOURTH\n"
     ]
    }
   ],
   "source": [
    "with open('mynewfile.txt',mode='r') as f:\n",
    "    print(f.read())"
   ]
  },
  {
   "cell_type": "code",
   "execution_count": 61,
   "id": "c27f04b0",
   "metadata": {},
   "outputs": [],
   "source": [
    "with open('iwueidaocburvb.txt',mode='w') as f:\n",
    "    f.write('Oduthesixth will blow one day')"
   ]
  },
  {
   "cell_type": "code",
   "execution_count": 62,
   "id": "6236e7bb",
   "metadata": {},
   "outputs": [
    {
     "name": "stdout",
     "output_type": "stream",
     "text": [
      "Oduthesixth will blow one day\n"
     ]
    }
   ],
   "source": [
    " with open('iwueidaocburvb.txt',mode='r') as f:\n",
    "        print(f.read())"
   ]
  },
  {
   "cell_type": "code",
   "execution_count": null,
   "id": "720017d4",
   "metadata": {},
   "outputs": [],
   "source": []
  }
 ],
 "metadata": {
  "kernelspec": {
   "display_name": "Python 3 (ipykernel)",
   "language": "python",
   "name": "python3"
  },
  "language_info": {
   "codemirror_mode": {
    "name": "ipython",
    "version": 3
   },
   "file_extension": ".py",
   "mimetype": "text/x-python",
   "name": "python",
   "nbconvert_exporter": "python",
   "pygments_lexer": "ipython3",
   "version": "3.9.7"
  }
 },
 "nbformat": 4,
 "nbformat_minor": 5
}
