{
 "cells": [
  {
   "cell_type": "code",
   "execution_count": 2,
   "id": "247fa031",
   "metadata": {},
   "outputs": [],
   "source": [
    "mystring = 'hello'\n",
    "\n",
    "mylist=[]\n",
    "for letter in mystring:\n",
    "    mylist.append(letter)"
   ]
  },
  {
   "cell_type": "code",
   "execution_count": 3,
   "id": "e97df8c7",
   "metadata": {},
   "outputs": [
    {
     "data": {
      "text/plain": [
       "['h', 'e', 'l', 'l', 'o']"
      ]
     },
     "execution_count": 3,
     "metadata": {},
     "output_type": "execute_result"
    }
   ],
   "source": [
    "mylist"
   ]
  },
  {
   "cell_type": "code",
   "execution_count": 4,
   "id": "2ced1b3e",
   "metadata": {},
   "outputs": [],
   "source": [
    "mylist = [letter for letter in mystring]"
   ]
  },
  {
   "cell_type": "code",
   "execution_count": 5,
   "id": "3fcde62a",
   "metadata": {},
   "outputs": [
    {
     "data": {
      "text/plain": [
       "['h', 'e', 'l', 'l', 'o']"
      ]
     },
     "execution_count": 5,
     "metadata": {},
     "output_type": "execute_result"
    }
   ],
   "source": [
    "mylist"
   ]
  },
  {
   "cell_type": "code",
   "execution_count": 6,
   "id": "ab491f14",
   "metadata": {},
   "outputs": [],
   "source": [
    "mylist = [x for x in 'Gameplay']"
   ]
  },
  {
   "cell_type": "code",
   "execution_count": 7,
   "id": "d53cb240",
   "metadata": {},
   "outputs": [
    {
     "data": {
      "text/plain": [
       "['G', 'a', 'm', 'e', 'p', 'l', 'a', 'y']"
      ]
     },
     "execution_count": 7,
     "metadata": {},
     "output_type": "execute_result"
    }
   ],
   "source": [
    "mylist"
   ]
  },
  {
   "cell_type": "code",
   "execution_count": 8,
   "id": "b8217071",
   "metadata": {},
   "outputs": [],
   "source": [
    "newlist= [num for num in range(0,11)]"
   ]
  },
  {
   "cell_type": "code",
   "execution_count": 10,
   "id": "f09a2dd0",
   "metadata": {},
   "outputs": [
    {
     "data": {
      "text/plain": [
       "[0, 1, 2, 3, 4, 5, 6, 7, 8, 9, 10]"
      ]
     },
     "execution_count": 10,
     "metadata": {},
     "output_type": "execute_result"
    }
   ],
   "source": [
    "newlist"
   ]
  },
  {
   "cell_type": "code",
   "execution_count": 11,
   "id": "c850e66e",
   "metadata": {},
   "outputs": [],
   "source": [
    "newlist= [num**2 for num in range(0,11)]"
   ]
  },
  {
   "cell_type": "code",
   "execution_count": 12,
   "id": "f6373e9a",
   "metadata": {},
   "outputs": [
    {
     "data": {
      "text/plain": [
       "[0, 1, 4, 9, 16, 25, 36, 49, 64, 81, 100]"
      ]
     },
     "execution_count": 12,
     "metadata": {},
     "output_type": "execute_result"
    }
   ],
   "source": [
    "newlist"
   ]
  },
  {
   "cell_type": "code",
   "execution_count": 14,
   "id": "3545f89c",
   "metadata": {},
   "outputs": [],
   "source": [
    "mylist=[x for x in range(0,11) if x%2==0]\n",
    "#You can add if statements as well"
   ]
  },
  {
   "cell_type": "code",
   "execution_count": 15,
   "id": "437ddf15",
   "metadata": {},
   "outputs": [
    {
     "data": {
      "text/plain": [
       "[0, 2, 4, 6, 8, 10]"
      ]
     },
     "execution_count": 15,
     "metadata": {},
     "output_type": "execute_result"
    }
   ],
   "source": [
    "mylist"
   ]
  },
  {
   "cell_type": "code",
   "execution_count": 16,
   "id": "319e4be8",
   "metadata": {},
   "outputs": [],
   "source": [
    "celcius=[0,10,20,34.5]\n",
    "\n",
    "fahrenheit = [((9/5)*temp + 32)for temp in celcius] "
   ]
  },
  {
   "cell_type": "code",
   "execution_count": 17,
   "id": "f0935ed6",
   "metadata": {},
   "outputs": [
    {
     "data": {
      "text/plain": [
       "[32.0, 50.0, 68.0, 94.1]"
      ]
     },
     "execution_count": 17,
     "metadata": {},
     "output_type": "execute_result"
    }
   ],
   "source": [
    "fahrenheit"
   ]
  },
  {
   "cell_type": "code",
   "execution_count": 18,
   "id": "e88a18b6",
   "metadata": {},
   "outputs": [],
   "source": [
    "#The longer method would look like this\n",
    "fahrenheit = []\n",
    "celcius = [0,10,20,34.5]\n",
    "\n",
    "for temp in celcius:\n",
    "    fahrenheit.append((9/5)*temp+32)"
   ]
  },
  {
   "cell_type": "code",
   "execution_count": 19,
   "id": "4314b636",
   "metadata": {},
   "outputs": [
    {
     "data": {
      "text/plain": [
       "[32.0, 50.0, 68.0, 94.1]"
      ]
     },
     "execution_count": 19,
     "metadata": {},
     "output_type": "execute_result"
    }
   ],
   "source": [
    "fahrenheit"
   ]
  },
  {
   "cell_type": "code",
   "execution_count": 20,
   "id": "a263495d",
   "metadata": {},
   "outputs": [],
   "source": [
    "#If else statements can be used but its not adviceable cause t  could be confusing\n",
    "results=[x if x%2==0 else 'ODD' for x in range(0,11)]"
   ]
  },
  {
   "cell_type": "code",
   "execution_count": 21,
   "id": "096e017a",
   "metadata": {},
   "outputs": [
    {
     "data": {
      "text/plain": [
       "[0, 'ODD', 2, 'ODD', 4, 'ODD', 6, 'ODD', 8, 'ODD', 10]"
      ]
     },
     "execution_count": 21,
     "metadata": {},
     "output_type": "execute_result"
    }
   ],
   "source": [
    "results"
   ]
  },
  {
   "cell_type": "code",
   "execution_count": 22,
   "id": "4e7f0998",
   "metadata": {},
   "outputs": [],
   "source": [
    "#Nested loops can also be done\n",
    "mylist=[]\n",
    "\n",
    "for x in [2,4,6]:\n",
    "    for y in [100,200,300]:\n",
    "        mylist.append(x*y)"
   ]
  },
  {
   "cell_type": "code",
   "execution_count": 23,
   "id": "7ab477d8",
   "metadata": {},
   "outputs": [
    {
     "data": {
      "text/plain": [
       "[200, 400, 600, 400, 800, 1200, 600, 1200, 1800]"
      ]
     },
     "execution_count": 23,
     "metadata": {},
     "output_type": "execute_result"
    }
   ],
   "source": [
    "mylist"
   ]
  },
  {
   "cell_type": "code",
   "execution_count": null,
   "id": "eb770da3",
   "metadata": {},
   "outputs": [],
   "source": [
    "#can be done with list comprehension but you will also sacrifice readability"
   ]
  },
  {
   "cell_type": "code",
   "execution_count": 24,
   "id": "7eedd55c",
   "metadata": {},
   "outputs": [],
   "source": [
    "mylist=[x*y for x in[2,4,6] for y in [1,10,100]]"
   ]
  },
  {
   "cell_type": "code",
   "execution_count": 25,
   "id": "b3b30d71",
   "metadata": {},
   "outputs": [
    {
     "data": {
      "text/plain": [
       "[2, 20, 200, 4, 40, 400, 6, 60, 600]"
      ]
     },
     "execution_count": 25,
     "metadata": {},
     "output_type": "execute_result"
    }
   ],
   "source": [
    "mylist"
   ]
  },
  {
   "cell_type": "code",
   "execution_count": null,
   "id": "dc50484b",
   "metadata": {},
   "outputs": [],
   "source": []
  }
 ],
 "metadata": {
  "kernelspec": {
   "display_name": "Python 3 (ipykernel)",
   "language": "python",
   "name": "python3"
  },
  "language_info": {
   "codemirror_mode": {
    "name": "ipython",
    "version": 3
   },
   "file_extension": ".py",
   "mimetype": "text/x-python",
   "name": "python",
   "nbconvert_exporter": "python",
   "pygments_lexer": "ipython3",
   "version": "3.9.7"
  }
 },
 "nbformat": 4,
 "nbformat_minor": 5
}
