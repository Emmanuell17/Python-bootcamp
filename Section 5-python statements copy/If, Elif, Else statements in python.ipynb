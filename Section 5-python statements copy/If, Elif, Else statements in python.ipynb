{
 "cells": [
  {
   "cell_type": "code",
   "execution_count": null,
   "id": "62995866",
   "metadata": {},
   "outputs": [],
   "source": [
    "#IF, ELIF, ELSE statements"
   ]
  },
  {
   "cell_type": "code",
   "execution_count": null,
   "id": "c3a96df7",
   "metadata": {},
   "outputs": [],
   "source": [
    "#IF statement"
   ]
  },
  {
   "cell_type": "code",
   "execution_count": 2,
   "id": "9168e351",
   "metadata": {},
   "outputs": [
    {
     "name": "stdout",
     "output_type": "stream",
     "text": [
      "it's true\n"
     ]
    }
   ],
   "source": [
    "if 3>2:\n",
    "    print(\"it's true\")"
   ]
  },
  {
   "cell_type": "code",
   "execution_count": 3,
   "id": "53a620d1",
   "metadata": {},
   "outputs": [
    {
     "name": "stdout",
     "output_type": "stream",
     "text": [
      "feed me\n"
     ]
    }
   ],
   "source": [
    "hungry = True\n",
    "if hungry:\n",
    "    print('feed me')"
   ]
  },
  {
   "cell_type": "code",
   "execution_count": 4,
   "id": "703e56dc",
   "metadata": {},
   "outputs": [
    {
     "name": "stdout",
     "output_type": "stream",
     "text": [
      "I'm not hungry\n"
     ]
    }
   ],
   "source": [
    "hungry = False\n",
    "if hungry:\n",
    "    print('I need food')\n",
    "else:\n",
    "    print(\"I'm not hungry\")"
   ]
  },
  {
   "cell_type": "code",
   "execution_count": 7,
   "id": "98d3bb58",
   "metadata": {},
   "outputs": [
    {
     "name": "stdout",
     "output_type": "stream",
     "text": [
      "God is good\n"
     ]
    }
   ],
   "source": [
    "location = 'church'\n",
    "if location == 'school':\n",
    "    print('I love books')\n",
    "elif location =='church':\n",
    "    print('God is good')\n",
    "elif location == 'bank':\n",
    "    print('Omo Baba Olowo')\n",
    "else:\n",
    "    print('Not much to say')"
   ]
  },
  {
   "cell_type": "code",
   "execution_count": 9,
   "id": "b6c097b3",
   "metadata": {},
   "outputs": [
    {
     "name": "stdout",
     "output_type": "stream",
     "text": [
      "STARBOY\n"
     ]
    }
   ],
   "source": [
    "name = 'Sancho'\n",
    "\n",
    "if name == 'Van Dijk':\n",
    "    print('Standing there and looking')\n",
    "elif name == 'Sancho':\n",
    "    print('STARBOY')\n",
    "elif name == 'Milner':\n",
    "    print('Be humble, sit down')\n",
    "else:\n",
    "    print('Where were you when Sancho scored')"
   ]
  },
  {
   "cell_type": "code",
   "execution_count": null,
   "id": "173e2fd4",
   "metadata": {},
   "outputs": [],
   "source": []
  }
 ],
 "metadata": {
  "kernelspec": {
   "display_name": "Python 3 (ipykernel)",
   "language": "python",
   "name": "python3"
  },
  "language_info": {
   "codemirror_mode": {
    "name": "ipython",
    "version": 3
   },
   "file_extension": ".py",
   "mimetype": "text/x-python",
   "name": "python",
   "nbconvert_exporter": "python",
   "pygments_lexer": "ipython3",
   "version": "3.9.7"
  }
 },
 "nbformat": 4,
 "nbformat_minor": 5
}
